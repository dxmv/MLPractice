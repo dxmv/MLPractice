{
  "nbformat": 4,
  "nbformat_minor": 0,
  "metadata": {
    "colab": {
      "provenance": []
    },
    "kernelspec": {
      "name": "python3",
      "display_name": "Python 3"
    },
    "language_info": {
      "name": "python"
    }
  },
  "cells": [
    {
      "cell_type": "markdown",
      "source": [
        "## **1. Introduction**\n",
        "Linear regression is a foundational technique in machine learning and statistics. In this notebook, we will implement a simple linear regression model to predict the price of a house based on its size in square meters. By analyzing how the price changes with respect to the size, we aim to derive a linear relationship between the two variables.\n"
      ],
      "metadata": {
        "id": "TBnlLc9fTXP-"
      }
    },
    {
      "cell_type": "code",
      "source": [
        "# Libraries we'll need\n",
        "import numpy as np\n",
        "from matplotlib import pyplot as plt"
      ],
      "metadata": {
        "id": "dsBZKJ_IVBQp"
      },
      "execution_count": 6,
      "outputs": []
    },
    {
      "cell_type": "markdown",
      "source": [
        "## **2. Dataset Description**\n",
        "We will work with a synthetic dataset that contains information about house sizes and their corresponding prices. The dataset is represented as NumPy arrays for efficient computation.\n",
        "\n",
        "- **Feature (X)**: The size of the house in square meters.\n",
        "- **Target (y)**: The price of the house in thousands of dollars.\n"
      ],
      "metadata": {
        "id": "mMz6JohJULy_"
      }
    },
    {
      "cell_type": "code",
      "source": [
        "# Create a simple dataset using NumPy arrays\n",
        "X = np.array([0.5, 0.6, 0.7, 0.8, .9, 1, 1.10, 1.20, 1.30, 1.40])  # Square Meters In Hundreds\n",
        "y = np.array([150, 250, 210, 270, 400, 380, 330, 360, 390, 420])  # Price in $1000"
      ],
      "metadata": {
        "id": "-u7McdLCULjv"
      },
      "execution_count": 100,
      "outputs": []
    },
    {
      "cell_type": "markdown",
      "source": [
        "## **3. Exploratory Data Analysis (EDA)**\n",
        "In this section, we will visualize the relationship between the size of the house (X) and its price (y). We will plot a scatter plot to observe the trend and any potential linear relationship."
      ],
      "metadata": {
        "id": "Tl3-OTO3WZNy"
      }
    },
    {
      "cell_type": "code",
      "execution_count": 101,
      "metadata": {
        "colab": {
          "base_uri": "https://localhost:8080/",
          "height": 430
        },
        "id": "Wo7zEToOSqR8",
        "outputId": "d97f162d-f941-4dd5-a632-48cef9453077"
      },
      "outputs": [
        {
          "output_type": "display_data",
          "data": {
            "text/plain": [
              "<Figure size 640x480 with 1 Axes>"
            ],
            "image/png": "[encoded data removed]"
          },
          "metadata": {}
        }
      ],
      "source": [
        "# Scatter plot\n",
        "plt.scatter(X, y)\n",
        "plt.show()"
      ]
    },
    {
      "cell_type": "markdown",
      "source": [
        "## **4. Linear Regression Theory**\n",
        "We will use simple linear regression to model the relationship between the size of the house and its price. The linear regression model aims to fit a line that best represents the data, minimizing the difference between the actual prices and the predicted prices."
      ],
      "metadata": {
        "id": "5sortzckWcaC"
      }
    },
    {
      "cell_type": "markdown",
      "source": [
        "## **5. Model Implementation**\n",
        "We will implement the linear regression model using the dataset represented in NumPy format. The steps include:\n",
        "\n",
        "- Splitting the data into training and testing sets.\n",
        "- Training the model to learn the relationship between the size of the house and its price.\n",
        "- Making predictions using the trained model."
      ],
      "metadata": {
        "id": "Tbm9WDq1XuIN"
      }
    },
    {
      "cell_type": "code",
      "source": [
        "# Use 80% of dataset for training\n",
        "training_set_x=X[:int(len(X)*0.8)]\n",
        "training_set_y=y[:int(len(X)*0.8)]"
      ],
      "metadata": {
        "id": "r0yi6P6oWhBS"
      },
      "execution_count": 102,
      "outputs": []
    },
    {
      "cell_type": "markdown",
      "source": [
        "**Compute the MSE**"
      ],
      "metadata": {
        "id": "6XHWt3twZm_a"
      }
    },
    {
      "cell_type": "code",
      "source": [
        "def compute_mse(x,y,w,b):\n",
        "    m = x.shape[0]\n",
        "    cost = 0\n",
        "    # using numpy properties\n",
        "    cost = sum((w * x + b - y)**2)\n",
        "    return 1 / (2 * m) * cost"
      ],
      "metadata": {
        "id": "UxEtTIJdZwKe"
      },
      "execution_count": 103,
      "outputs": []
    },
    {
      "cell_type": "markdown",
      "source": [
        "**Compute the gradient descent**\n",
        "To find the derivative of the costs"
      ],
      "metadata": {
        "id": "_A0y7O34aGfP"
      }
    },
    {
      "cell_type": "code",
      "source": [
        "def compute_gradient(x, y, w, b):\n",
        "    m = x.shape[0]  # Number of training examples\n",
        "\n",
        "    # Calculate the model's predictions for all training examples\n",
        "    f_wb = w * x + b  # Vectorized operation\n",
        "\n",
        "    # Compute the difference between predictions and actual values\n",
        "    error = f_wb - y  # Vectorized operation\n",
        "\n",
        "    # Calculate the gradients\n",
        "    derivativeCostW = np.dot(error, x) / m  # Vectorized dot product for gradient w.r.t. w\n",
        "    derivativeCostB = np.sum(error) / m     # Sum all errors for gradient w.r.t. b\n",
        "\n",
        "    return derivativeCostW, derivativeCostB"
      ],
      "metadata": {
        "id": "Ttdpa8ToaF8P"
      },
      "execution_count": 104,
      "outputs": []
    },
    {
      "cell_type": "markdown",
      "source": [
        "**Gradient Descent**\n",
        "\n",
        "Now that gradients can be computed, gradient descent, described in equation above can be implemented below in gradient_descent. The details of the implementation are described in the comments. Below, you will utilize this function to find optimal values of  𝑤\n",
        "  and  𝑏\n",
        "  on the training data."
      ],
      "metadata": {
        "id": "pbjN_99r5irC"
      }
    },
    {
      "cell_type": "code",
      "source": [
        "def gradient_descent(x, y, wInit, bInit, learningRate, num_iters, cost_function, gradient_function):\n",
        "  w = wInit\n",
        "  b = bInit\n",
        "  # train the data here\n",
        "  for i in range(num_iters):\n",
        "        # Calculate the gradient\n",
        "        gradientW, gradientB = gradient_function(x, y, w , b)\n",
        "        # update the parameters using gradient_function\n",
        "        w = w - learningRate * gradientW\n",
        "        b = b - learningRate * gradientB\n",
        "        # print every 10.000-th\n",
        "        if i % 10000 == 0:\n",
        "            cost = cost_function(x, y, w, b)\n",
        "            print(f\"Iteration {i}: Cost {cost}, w {w}, b {b}, gradientW {gradientW}, gradientB {gradientB}\")\n",
        "  return w, b # the results"
      ],
      "metadata": {
        "id": "Sih72H53worr"
      },
      "execution_count": 105,
      "outputs": []
    },
    {
      "cell_type": "code",
      "source": [
        "# initial guess\n",
        "w = 1\n",
        "b = 1\n",
        "\n",
        "iterations = 100000\n",
        "learningRate = 0.05\n",
        "w_final, b_final = gradient_descent(X,y,w,b,learningRate,iterations,compute_mse,compute_gradient)"
      ],
      "metadata": {
        "colab": {
          "base_uri": "https://localhost:8080/"
        },
        "id": "V_ZJWkSWwohR",
        "outputId": "232f2ebe-e8b5-4f78-9d54-72de2121f80d"
      },
      "execution_count": 106,
      "outputs": [
        {
          "output_type": "stream",
          "name": "stdout",
          "text": [
            "Iteration 0: Cost 43474.92666703329, w 16.993250000000003, b 16.7025, gradientW -319.865, gradientB -314.05\n",
            "Iteration 10000: Cost 914.3636363636359, w 261.81818176070277, b 67.2727273297543, gradientW -2.4463766123972165e-09, gradientB 2.4270917720059514e-09\n",
            "Iteration 20000: Cost 914.3636363636368, w 261.8181818181734, b 67.27272727273541, gradientW -5.652367462971597e-13, gradientB 1.3642420526593923e-13\n",
            "Iteration 30000: Cost 914.3636363636368, w 261.8181818181734, b 67.27272727273541, gradientW -5.652367462971597e-13, gradientB 1.3642420526593923e-13\n",
            "Iteration 40000: Cost 914.3636363636368, w 261.8181818181734, b 67.27272727273541, gradientW -5.652367462971597e-13, gradientB 1.3642420526593923e-13\n",
            "Iteration 50000: Cost 914.3636363636368, w 261.8181818181734, b 67.27272727273541, gradientW -5.652367462971597e-13, gradientB 1.3642420526593923e-13\n",
            "Iteration 60000: Cost 914.3636363636368, w 261.8181818181734, b 67.27272727273541, gradientW -5.652367462971597e-13, gradientB 1.3642420526593923e-13\n",
            "Iteration 70000: Cost 914.3636363636368, w 261.8181818181734, b 67.27272727273541, gradientW -5.652367462971597e-13, gradientB 1.3642420526593923e-13\n",
            "Iteration 80000: Cost 914.3636363636368, w 261.8181818181734, b 67.27272727273541, gradientW -5.652367462971597e-13, gradientB 1.3642420526593923e-13\n",
            "Iteration 90000: Cost 914.3636363636368, w 261.8181818181734, b 67.27272727273541, gradientW -5.652367462971597e-13, gradientB 1.3642420526593923e-13\n"
          ]
        }
      ]
    },
    {
      "cell_type": "markdown",
      "source": [
        "# **6. Model Evaluation**\n",
        "After training the model, we will evaluate its performance by calculating the Mean Squared Error (MSE). These metrics will help us understand how well the model predicts house prices based on their size."
      ],
      "metadata": {
        "id": "DlXo0pww9kgX"
      }
    },
    {
      "cell_type": "code",
      "source": [
        "print(f\"Error: {compute_mse(X,y,w_final,b_final)}\")\n",
        "print(f\"w: {w_final}\\nb: {b_final}\")"
      ],
      "metadata": {
        "colab": {
          "base_uri": "https://localhost:8080/"
        },
        "id": "NJXNQTZ3_pNq",
        "outputId": "d38a9d88-086f-4abe-b416-73cde4302616"
      },
      "execution_count": 107,
      "outputs": [
        {
          "output_type": "stream",
          "name": "stdout",
          "text": [
            "Error: 914.3636363636368\n",
            "w: 261.8181818181734\n",
            "b: 67.27272727273541\n"
          ]
        }
      ]
    },
    {
      "cell_type": "markdown",
      "source": [
        "# **7. Visualizing the Regression Line**\n",
        "We will plot the regression line over the scatter plot of the data to visually assess how well the model fits the relationship between house size and price."
      ],
      "metadata": {
        "id": "yJiF-oapAL4E"
      }
    },
    {
      "cell_type": "code",
      "source": [
        "# Scatter plot\n",
        "plt.scatter(X, y)\n",
        "y_pred = w_final * X + b_final\n",
        "\n",
        "# Plot the regression line\n",
        "plt.plot(X, y_pred, color='red', label='Regression Line')\n",
        "\n",
        "# Add labels and a title\n",
        "plt.xlabel('Square Meters')\n",
        "plt.ylabel('Price in $1000')\n",
        "plt.title('Linear Regression: Square Meters vs Price')\n",
        "\n",
        "# Add a legend\n",
        "plt.legend()\n",
        "\n",
        "# Display the plot\n",
        "plt.show()"
      ],
      "metadata": {
        "colab": {
          "base_uri": "https://localhost:8080/",
          "height": 472
        },
        "id": "HD2W6DWuAYhk",
        "outputId": "1a2acae6-2ebd-4586-a0b1-6148ce0ef9d1"
      },
      "execution_count": 108,
      "outputs": [
        {
          "output_type": "display_data",
          "data": {
            "text/plain": [
              "<Figure size 640x480 with 1 Axes>"
            ],
            "image/png": "[encoded data removed]"
          },
          "metadata": {}
        }
      ]
    }
  ]
}